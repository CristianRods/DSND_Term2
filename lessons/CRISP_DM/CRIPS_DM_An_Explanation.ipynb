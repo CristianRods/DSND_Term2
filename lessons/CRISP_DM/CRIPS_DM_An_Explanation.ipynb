{
 "cells": [
  {
   "cell_type": "markdown",
   "metadata": {},
   "source": [
    "## CRISP - DM Methodology. \n",
    "A summary to understand the process of 'Doing an excercise of Data Science'. Mainly, it is focused to extract the essence of the information, patterns or insights from all the information available in a company, society or an experiment depending the domain of your work sector.\n",
    "There a similar methodologies, for example, KDD for Data Minning (Knowledge Discovery in Databases(KDD)).\n",
    "\n",
    "The substance of all these methodologies is simple: GET KNOWLEDGE FROM DATA AND DEPLOY IT INTO EXISTING PROCESS OR DEVELOP NEW ONES.\n",
    "\n"
   ]
  },
  {
   "cell_type": "markdown",
   "metadata": {},
   "source": [
    "__CRISP - DM is a methodology to follow an standard process or steps to analyze, modelling and deploy changes using data.__\n",
    "\n",
    "There are 6 well known steps, such as: \n",
    " - Business / Problem  Understanding\n",
    " - Data Understanding\n",
    " - Data Preparation\n",
    " - Modelling\n",
    " - Evaluation\n",
    " - Deployment\n",
    " In the next chunks, I tried to summary all these steps."
   ]
  },
  {
   "cell_type": "markdown",
   "metadata": {},
   "source": [
    "\n",
    "__1. Business or Problem Understanding - this means understanding the problem and questions you are interested in tackling in the context of whatever domain you're working in.__\n",
    "\n",
    "Examples include:\n",
    "\n",
    "How do we acquire new customers?\n",
    "\n",
    "Does a new treatment perform better than an existing treatment?\n",
    "\n",
    "How can improve communication?\n",
    "\n",
    "How can we improve travel?\n",
    "\n",
    "How can we better retain information?\n",
    "\n",
    "__2. Data Understanding - at this step, you need to move the questions from Business Understanding to data.__\n",
    "\n",
    "You might already have data that could be used to answer the questions, or you might have to collect data to get at your questions of interest.\n",
    "The process could be from Questions - Data - Solution or Data - Question - Solution. It is a up to you from which point you would start it and do over again until answers and whole picture of the data come front of you. "
   ]
  },
  {
   "cell_type": "markdown",
   "metadata": {},
   "source": [
    "__3. Prepare Data. Wrangling and cleaning process over the data__ \n",
    "\n",
    "Luckily stackoverflow has already collected the data for us. However, we still need to wrangle the data in a way for us to answer our questions. The wrangling and cleaning process is said to take 80% of the time of the data analysis process. You will see that will hold true through this lesson, as a majority of the remaining parts of this lesson will be around basic data wrangling strategies.\n",
    "\n",
    "We will discuss the advantages and disadvantages of the strategies discussed in this lesson.\n"
   ]
  },
  {
   "cell_type": "code",
   "execution_count": null,
   "metadata": {},
   "outputs": [],
   "source": []
  }
 ],
 "metadata": {
  "kernelspec": {
   "display_name": "tf",
   "language": "python",
   "name": "tf"
  },
  "language_info": {
   "codemirror_mode": {
    "name": "ipython",
    "version": 3
   },
   "file_extension": ".py",
   "mimetype": "text/x-python",
   "name": "python",
   "nbconvert_exporter": "python",
   "pygments_lexer": "ipython3",
   "version": "3.7.7"
  },
  "nbTranslate": {
   "displayLangs": [
    "*"
   ],
   "hotkey": "alt-t",
   "langInMainMenu": true,
   "sourceLang": "en",
   "targetLang": "fr",
   "useGoogleTranslate": true
  },
  "toc": {
   "base_numbering": 1,
   "nav_menu": {},
   "number_sections": true,
   "sideBar": true,
   "skip_h1_title": false,
   "title_cell": "Table of Contents",
   "title_sidebar": "Contents",
   "toc_cell": false,
   "toc_position": {},
   "toc_section_display": true,
   "toc_window_display": false
  }
 },
 "nbformat": 4,
 "nbformat_minor": 4
}
